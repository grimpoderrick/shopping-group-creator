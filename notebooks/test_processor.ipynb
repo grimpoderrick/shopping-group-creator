{
 "cells": [
  {
   "cell_type": "code",
   "execution_count": 1,
   "id": "b5a8b065",
   "metadata": {},
   "outputs": [],
   "source": [
    "import pandas as pd\n",
    "import os"
   ]
  },
  {
   "cell_type": "code",
   "execution_count": 2,
   "id": "26b7164a",
   "metadata": {},
   "outputs": [],
   "source": [
    "os.chdir(\"C:/Local Analysis Files/001 Product Development/Shopping Group Creator\")"
   ]
  },
  {
   "cell_type": "code",
   "execution_count": 3,
   "id": "b0b94e13",
   "metadata": {},
   "outputs": [
    {
     "data": {
      "text/html": [
       "<div>\n",
       "<style scoped>\n",
       "    .dataframe tbody tr th:only-of-type {\n",
       "        vertical-align: middle;\n",
       "    }\n",
       "\n",
       "    .dataframe tbody tr th {\n",
       "        vertical-align: top;\n",
       "    }\n",
       "\n",
       "    .dataframe thead th {\n",
       "        text-align: right;\n",
       "    }\n",
       "</style>\n",
       "<table border=\"1\" class=\"dataframe\">\n",
       "  <thead>\n",
       "    <tr style=\"text-align: right;\">\n",
       "      <th></th>\n",
       "      <th>uuid</th>\n",
       "      <th>Units_Non-Whitening Toothpaste</th>\n",
       "      <th>Units_Whitening Strip</th>\n",
       "      <th>Units_Whitening Toothpaste</th>\n",
       "      <th>Dollars_Non-Whitening Toothpaste</th>\n",
       "      <th>Dollars_Whitening Strip</th>\n",
       "      <th>Dollars_Whitening Toothpaste</th>\n",
       "    </tr>\n",
       "  </thead>\n",
       "  <tbody>\n",
       "    <tr>\n",
       "      <th>0</th>\n",
       "      <td>00mpwjxp2ft1gpmm</td>\n",
       "      <td>0.0</td>\n",
       "      <td>1.0</td>\n",
       "      <td>0.0</td>\n",
       "      <td>0.00</td>\n",
       "      <td>3.98</td>\n",
       "      <td>0.0</td>\n",
       "    </tr>\n",
       "    <tr>\n",
       "      <th>1</th>\n",
       "      <td>01909ycdmubbh0v9</td>\n",
       "      <td>0.0</td>\n",
       "      <td>1.0</td>\n",
       "      <td>0.0</td>\n",
       "      <td>0.00</td>\n",
       "      <td>17.48</td>\n",
       "      <td>0.0</td>\n",
       "    </tr>\n",
       "    <tr>\n",
       "      <th>2</th>\n",
       "      <td>023z6sb07p3qebzg</td>\n",
       "      <td>2.0</td>\n",
       "      <td>0.0</td>\n",
       "      <td>0.0</td>\n",
       "      <td>23.46</td>\n",
       "      <td>0.00</td>\n",
       "      <td>0.0</td>\n",
       "    </tr>\n",
       "    <tr>\n",
       "      <th>3</th>\n",
       "      <td>029y78btxm76kbe1</td>\n",
       "      <td>1.0</td>\n",
       "      <td>0.0</td>\n",
       "      <td>0.0</td>\n",
       "      <td>4.98</td>\n",
       "      <td>0.00</td>\n",
       "      <td>0.0</td>\n",
       "    </tr>\n",
       "    <tr>\n",
       "      <th>4</th>\n",
       "      <td>05292wtag3sjp240</td>\n",
       "      <td>0.0</td>\n",
       "      <td>1.0</td>\n",
       "      <td>0.0</td>\n",
       "      <td>0.00</td>\n",
       "      <td>7.28</td>\n",
       "      <td>0.0</td>\n",
       "    </tr>\n",
       "  </tbody>\n",
       "</table>\n",
       "</div>"
      ],
      "text/plain": [
       "               uuid  Units_Non-Whitening Toothpaste  Units_Whitening Strip  \\\n",
       "0  00mpwjxp2ft1gpmm                             0.0                    1.0   \n",
       "1  01909ycdmubbh0v9                             0.0                    1.0   \n",
       "2  023z6sb07p3qebzg                             2.0                    0.0   \n",
       "3  029y78btxm76kbe1                             1.0                    0.0   \n",
       "4  05292wtag3sjp240                             0.0                    1.0   \n",
       "\n",
       "   Units_Whitening Toothpaste  Dollars_Non-Whitening Toothpaste  \\\n",
       "0                         0.0                              0.00   \n",
       "1                         0.0                              0.00   \n",
       "2                         0.0                             23.46   \n",
       "3                         0.0                              4.98   \n",
       "4                         0.0                              0.00   \n",
       "\n",
       "   Dollars_Whitening Strip  Dollars_Whitening Toothpaste  \n",
       "0                     3.98                           0.0  \n",
       "1                    17.48                           0.0  \n",
       "2                     0.00                           0.0  \n",
       "3                     0.00                           0.0  \n",
       "4                     7.28                           0.0  "
      ]
     },
     "execution_count": 3,
     "metadata": {},
     "output_type": "execute_result"
    }
   ],
   "source": [
    "product_df = pd.read_excel(\"sample_files/product coding.xlsx\")\n",
    "purchase_df = pd.read_excel(\"sample_files/person level purchases.xlsx\")\n",
    "\n",
    "# Then copy the process_files() function from earlier\n",
    "from processor import process_files  # Or paste it in for now\n",
    "output_subcat = process_files(product_df, purchase_df, group_field='Subcategory')\n",
    "output_subcat.head()"
   ]
  },
  {
   "cell_type": "code",
   "execution_count": null,
   "id": "f6cd4e5f",
   "metadata": {},
   "outputs": [],
   "source": []
  }
 ],
 "metadata": {
  "kernelspec": {
   "display_name": "Python 3 (ipykernel)",
   "language": "python",
   "name": "python3"
  },
  "language_info": {
   "codemirror_mode": {
    "name": "ipython",
    "version": 3
   },
   "file_extension": ".py",
   "mimetype": "text/x-python",
   "name": "python",
   "nbconvert_exporter": "python",
   "pygments_lexer": "ipython3",
   "version": "3.11.5"
  }
 },
 "nbformat": 4,
 "nbformat_minor": 5
}
